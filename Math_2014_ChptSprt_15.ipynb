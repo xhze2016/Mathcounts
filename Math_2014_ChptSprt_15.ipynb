{
  "nbformat": 4,
  "nbformat_minor": 0,
  "metadata": {
    "colab": {
      "provenance": [],
      "authorship_tag": "ABX9TyMHH8lZ0rbobJW7hA0E1Kie",
      "include_colab_link": true
    },
    "kernelspec": {
      "name": "python3",
      "display_name": "Python 3"
    },
    "language_info": {
      "name": "python"
    }
  },
  "cells": [
    {
      "cell_type": "markdown",
      "metadata": {
        "id": "view-in-github",
        "colab_type": "text"
      },
      "source": [
        "<a href=\"https://colab.research.google.com/github/xhze2016/Mathcounts/blob/main/Math_2014_ChptSprt_15.ipynb\" target=\"_parent\"><img src=\"https://colab.research.google.com/assets/colab-badge.svg\" alt=\"Open In Colab\"/></a>"
      ]
    },
    {
      "cell_type": "code",
      "source": [
        "# 2014 Chapter Sprint 15: the product of 3 distinct positive integers is 144. if the sum of the 3 integers is 26, what is the sum of their squares?"
      ],
      "metadata": {
        "id": "KIFy6s8EPiyu"
      },
      "execution_count": null,
      "outputs": []
    },
    {
      "cell_type": "code",
      "source": [
        "for A in range(0, 25):\n",
        "   for B in range(0, 25):\n",
        "     for C in range(0, 25):\n",
        "       if A+B+C == 26 and A*B*C == 144:\n",
        "         print(A, B, C)\n",
        "num = A*A + B*B + C*C\n",
        "num"
      ],
      "metadata": {
        "colab": {
          "base_uri": "https://localhost:8080/"
        },
        "id": "JgsbgMguNMQo",
        "outputId": "15574b9b-1952-49be-8dc9-5e1f75048390"
      },
      "execution_count": null,
      "outputs": [
        {
          "output_type": "stream",
          "name": "stdout",
          "text": [
            "1 9 16\n",
            "1 16 9\n",
            "9 1 16\n",
            "9 16 1\n",
            "16 1 9\n",
            "16 9 1\n"
          ]
        },
        {
          "output_type": "execute_result",
          "data": {
            "text/plain": [
              "1728"
            ]
          },
          "metadata": {},
          "execution_count": 3
        }
      ]
    },
    {
      "cell_type": "code",
      "source": [
        "# 2014 Chapter Sprint 15: the product of 3 distinct positive integers is 144. if the sum of the 3 integers is 26, what is the sum of their squares?\n",
        "\n",
        "def find_numbers_with_product_and_sum(target_product, target_sum):\n",
        "    # Loop through possible values for the first number\n",
        "    for a in range(1, target_sum):\n",
        "        # Loop through possible values for the second number\n",
        "        for b in range(a + 1, target_sum - a):\n",
        "            c = target_sum - a - b\n",
        "            # Check if the numbers are distinct and meet the criteria\n",
        "            if a * b * c == target_product and a < b < c:\n",
        "                return a, b, c\n",
        "    return None\n",
        "\n",
        "def sum_of_squares(a, b, c):\n",
        "    return a**2 + b**2 + c**2\n",
        "\n",
        "# Given problem conditions\n",
        "product = 144\n",
        "sum_of_numbers = 26\n",
        "\n",
        "# Find the numbers\n",
        "numbers = find_numbers_with_product_and_sum(product, sum_of_numbers)\n",
        "if numbers:\n",
        "    a, b, c = numbers\n",
        "    result = sum_of_squares(a, b, c)\n",
        "    print(f\"The three integers are: {a}, {b}, and {c}\")\n",
        "    print(f\"The sum of their squares is: {result}\")\n",
        "else:\n",
        "    print(\"No solution found.\")\n"
      ],
      "metadata": {
        "colab": {
          "base_uri": "https://localhost:8080/"
        },
        "id": "Qv5ud195m4fH",
        "outputId": "d8a1ff35-0868-4165-cad4-b36c7e22dd45"
      },
      "execution_count": null,
      "outputs": [
        {
          "output_type": "stream",
          "name": "stdout",
          "text": [
            "The three integers are: 1, 9, and 16\n",
            "The sum of their squares is: 338\n"
          ]
        }
      ]
    }
  ]
}