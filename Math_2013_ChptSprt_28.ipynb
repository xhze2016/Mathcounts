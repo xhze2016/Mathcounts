{
  "nbformat": 4,
  "nbformat_minor": 0,
  "metadata": {
    "colab": {
      "provenance": [],
      "authorship_tag": "ABX9TyNCyGYJlhlXX5jgxEEClZzH",
      "include_colab_link": true
    },
    "kernelspec": {
      "name": "python3",
      "display_name": "Python 3"
    },
    "language_info": {
      "name": "python"
    }
  },
  "cells": [
    {
      "cell_type": "markdown",
      "metadata": {
        "id": "view-in-github",
        "colab_type": "text"
      },
      "source": [
        "<a href=\"https://colab.research.google.com/github/xhze2016/Mathcounts/blob/main/Math_2013_ChptSprt_28.ipynb\" target=\"_parent\"><img src=\"https://colab.research.google.com/assets/colab-badge.svg\" alt=\"Open In Colab\"/></a>"
      ]
    },
    {
      "cell_type": "code",
      "source": [
        "#what fraction of the first 100 triangular numbers are evenly divisible by 7? (2013 Chapter sprint 28)\n",
        "\n",
        "def triangular_number(n):\n",
        "    return n * (n + 1) // 2\n",
        "\n",
        "def is_divisible_by_7(number):\n",
        "    return number % 7 == 0\n",
        "\n",
        "def calculate_fraction_of_divisible_triangular_numbers(limit):\n",
        "    triangular_numbers = [triangular_number(n) for n in range(1, limit + 1)]\n",
        "    divisible_by_7 = [num for num in triangular_numbers if is_divisible_by_7(num)]\n",
        "\n",
        "    fraction = len(divisible_by_7) / limit\n",
        "    return fraction, divisible_by_7\n",
        "\n",
        "limit = 100\n",
        "fraction, divisible_triangular_numbers = calculate_fraction_of_divisible_triangular_numbers(limit)\n",
        "\n",
        "print(f\"Fraction of the first {limit} triangular numbers that are divisible by 7: {fraction}\")\n",
        "print(f\"Triangular numbers that are divisible by 7: {divisible_triangular_numbers}\")\n"
      ],
      "metadata": {
        "colab": {
          "base_uri": "https://localhost:8080/"
        },
        "id": "QWF2PDb_KApp",
        "outputId": "bcc0f8c2-fcd1-44eb-a43c-df15d3856a14"
      },
      "execution_count": null,
      "outputs": [
        {
          "output_type": "stream",
          "name": "stdout",
          "text": [
            "Fraction of the first 100 triangular numbers that are divisible by 7: 0.28\n",
            "Triangular numbers that are divisible by 7: [21, 28, 91, 105, 210, 231, 378, 406, 595, 630, 861, 903, 1176, 1225, 1540, 1596, 1953, 2016, 2415, 2485, 2926, 3003, 3486, 3570, 4095, 4186, 4753, 4851]\n"
          ]
        }
      ]
    }
  ]
}