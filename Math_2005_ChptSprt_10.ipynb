{
  "nbformat": 4,
  "nbformat_minor": 0,
  "metadata": {
    "colab": {
      "provenance": [],
      "authorship_tag": "ABX9TyOsNZh7QoNTXrmxd3jVbEUr",
      "include_colab_link": true
    },
    "kernelspec": {
      "name": "python3",
      "display_name": "Python 3"
    },
    "language_info": {
      "name": "python"
    }
  },
  "cells": [
    {
      "cell_type": "markdown",
      "metadata": {
        "id": "view-in-github",
        "colab_type": "text"
      },
      "source": [
        "<a href=\"https://colab.research.google.com/github/xhze2016/Mathcounts/blob/main/Math_2005_ChptSprt_10.ipynb\" target=\"_parent\"><img src=\"https://colab.research.google.com/assets/colab-badge.svg\" alt=\"Open In Colab\"/></a>"
      ]
    },
    {
      "cell_type": "code",
      "source": [
        "# mathcount 2005 Chapter Sprint 10: How many combinations of pennies, nickels and/or dimes are there with a total value of 25 cents?"
      ],
      "metadata": {
        "id": "0U5ZqTyC-jgm"
      },
      "execution_count": null,
      "outputs": []
    },
    {
      "cell_type": "code",
      "execution_count": 1,
      "metadata": {
        "colab": {
          "base_uri": "https://localhost:8080/"
        },
        "id": "3mnh4mf79Pnx",
        "outputId": "86529855-bbb0-4b68-a496-15d897aafed6"
      },
      "outputs": [
        {
          "output_type": "stream",
          "name": "stdout",
          "text": [
            "dimes: 0, nickels: 0, pennies: 25\n",
            "dimes: 0, nickels: 1, pennies: 20\n",
            "dimes: 0, nickels: 2, pennies: 15\n",
            "dimes: 0, nickels: 3, pennies: 10\n",
            "dimes: 0, nickels: 4, pennies: 5\n",
            "dimes: 0, nickels: 5, pennies: 0\n",
            "dimes: 1, nickels: 0, pennies: 15\n",
            "dimes: 1, nickels: 1, pennies: 10\n",
            "dimes: 1, nickels: 2, pennies: 5\n",
            "dimes: 1, nickels: 3, pennies: 0\n",
            "dimes: 2, nickels: 0, pennies: 5\n",
            "dimes: 2, nickels: 1, pennies: 0\n",
            "Combinations: 12\n"
          ]
        }
      ],
      "source": [
        "Combinations = 0\n",
        "for dimes in range(3):\n",
        "    for nickels in range(6):\n",
        "        for pennies in range(26):\n",
        "            if dimes * 10 + nickels * 5 + pennies == 25:\n",
        "                print(f\"dimes: {dimes}, nickels: {nickels}, pennies: {pennies}\")\n",
        "                Combinations += 1\n",
        "print(f\"Combinations: {Combinations}\")"
      ]
    },
    {
      "cell_type": "code",
      "execution_count": null,
      "metadata": {
        "colab": {
          "base_uri": "https://localhost:8080/"
        },
        "id": "33ARhZ5VGnwF",
        "outputId": "637c3665-7364-44ca-edaf-e946e594edea"
      },
      "outputs": [
        {
          "output_type": "stream",
          "name": "stdout",
          "text": [
            "Number of combinations: 12\n",
            "Pennies: 0, Nickels: 1, Dimes: 2\n",
            "Pennies: 0, Nickels: 3, Dimes: 1\n",
            "Pennies: 0, Nickels: 5, Dimes: 0\n",
            "Pennies: 5, Nickels: 0, Dimes: 2\n",
            "Pennies: 5, Nickels: 2, Dimes: 1\n",
            "Pennies: 5, Nickels: 4, Dimes: 0\n",
            "Pennies: 10, Nickels: 1, Dimes: 1\n",
            "Pennies: 10, Nickels: 3, Dimes: 0\n",
            "Pennies: 15, Nickels: 0, Dimes: 1\n",
            "Pennies: 15, Nickels: 2, Dimes: 0\n",
            "Pennies: 20, Nickels: 1, Dimes: 0\n",
            "Pennies: 25, Nickels: 0, Dimes: 0\n"
          ]
        }
      ],
      "source": [
        "def find_combinations(target_cents):\n",
        "    combinations = []\n",
        "    for pennies in range(target_cents + 1):\n",
        "        for nickels in range(target_cents // 5 + 1):\n",
        "            for dimes in range(target_cents // 10 + 1):\n",
        "                if pennies + nickels * 5 + dimes * 10 == target_cents:\n",
        "                    combinations.append((pennies, nickels, dimes))\n",
        "    return combinations\n",
        "\n",
        "target_cents = 25\n",
        "combinations = find_combinations(target_cents)\n",
        "\n",
        "print(f\"Number of combinations: {len(combinations)}\")\n",
        "for combo in combinations:\n",
        "    print(f\"Pennies: {combo[0]}, Nickels: {combo[1]}, Dimes: {combo[2]}\")\n"
      ]
    }
  ]
}