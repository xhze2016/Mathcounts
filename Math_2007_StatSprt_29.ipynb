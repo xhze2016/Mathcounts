{
  "nbformat": 4,
  "nbformat_minor": 0,
  "metadata": {
    "colab": {
      "provenance": [],
      "authorship_tag": "ABX9TyMQWJmeCP5V6oxGFn3S6kgM",
      "include_colab_link": true
    },
    "kernelspec": {
      "name": "python3",
      "display_name": "Python 3"
    },
    "language_info": {
      "name": "python"
    }
  },
  "cells": [
    {
      "cell_type": "markdown",
      "metadata": {
        "id": "view-in-github",
        "colab_type": "text"
      },
      "source": [
        "<a href=\"https://colab.research.google.com/github/xhze2016/Mathcounts/blob/main/Math_2007_StatSprt_29.ipynb\" target=\"_parent\"><img src=\"https://colab.research.google.com/assets/colab-badge.svg\" alt=\"Open In Colab\"/></a>"
      ]
    },
    {
      "cell_type": "code",
      "source": [
        "# 2007 state sprint 29: 2,3,4,7,8 to 5 digit integer to be divisible by 11\n",
        "\n",
        "import math\n",
        "from itertools import permutations\n",
        "\n",
        "# Define the digits\n",
        "digits = [2, 3, 4, 7, 8]\n",
        "\n",
        "# Generate all permutations of the digits\n",
        "all_permutations = permutations(digits)\n",
        "\n",
        "# Initialize a counter for valid permutations\n",
        "valid_count = 0\n",
        "\n",
        "# A number is divisible by 11 if the difference between the sum of the digits in odd positions and the sum of the digits in even positions is either 0 or a multiple of 11.\n",
        "# Function to check divisibility by 11\n",
        "def is_divisible_by_11(number):\n",
        "    number_str = str(number)\n",
        "    odd_sum = sum(int(number_str[i]) for i in range(0, len(number_str), 2))\n",
        "    even_sum = sum(int(number_str[i]) for i in range(1, len(number_str), 2))\n",
        "    return abs(odd_sum - even_sum) % 11 == 0\n",
        "\n",
        "# Check each permutation\n",
        "for perm in all_permutations:\n",
        "    number = int(''.join(map(str, perm)))\n",
        "    if is_divisible_by_11(number):\n",
        "        valid_count += 1\n",
        "\n",
        "# Total number of permutations\n",
        "total_permutations = math.factorial(len(digits))\n",
        "\n",
        "# Calculate the probability\n",
        "probability = valid_count / total_permutations\n",
        "probability\n"
      ],
      "metadata": {
        "id": "VUPZeUK3A_vT",
        "colab": {
          "base_uri": "https://localhost:8080/"
        },
        "outputId": "71879b61-0c24-4651-d948-0764249fc160"
      },
      "execution_count": null,
      "outputs": [
        {
          "output_type": "execute_result",
          "data": {
            "text/plain": [
              "0.1"
            ]
          },
          "metadata": {},
          "execution_count": 2
        }
      ]
    }
  ]
}